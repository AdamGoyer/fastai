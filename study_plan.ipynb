{
 "cells": [
  {
   "attachments": {},
   "cell_type": "markdown",
   "metadata": {},
   "source": [
    "# Meta Study Notes: ML & Data Science"
   ]
  },
  {
   "attachments": {},
   "cell_type": "markdown",
   "metadata": {},
   "source": [
    "My first Git pull request was in 2015. <br>\n",
    "I was trying to learn ruby on rails and following a tutorial online. <br>\n",
    "When I was a child, I insisted on trying to learn C++ from a book. <br>\n",
    "None of these attempts were successful. <br>\n",
    "I was not able to complete any of the tutorials. <br>\n",
    "<br>\n",
    "Something changed this time around. <br>\n",
    "I started learning Python from 365datascience.com - I was looking at a few different courses, but wanted to see if I could make meaningful progress before committing to the process.\n",
    "365 DataScience lead to Practicum - the first few chapters where exceedingly difficult as I forced my brain to learn a new and strante way of thinking - Child's mind all over again. <br>\n",
    "\n",
    "Practicum has lead to Fast.ai - a difficult and challenging course I would not of even though was within my reach 6 months ago. I'm working though the lessons in parrel to finishing the Practicum coursework, and setting my signts on what's next. <br>\n",
    "<br>\n",
    "A couple of notes that people might find helpful. <br>\n",
    "Fast.ai has helped transform the machine Learning process from Magic into Process. <br>\n",
    "The 3Blue1Brown Video Series on Neural Networks is the first time anyone has been able to explain the MATH underpinning Neural Networks to me in a way that makes sense. <br>\n",
    "Neural networks == https://youtube.com/playlist?list=PLZHQObOWTQDNU6R1_67000Dx_ZCJB-3pi <br>\n",
    "Anyone interesting in Machine Learning who is not Expert at Calculus and linear Algebra should review the 3Blue1Brown series by the same name. <br>\n",
    "Essence of calculus == https://youtube.com/playlist?list=PLZHQObOWTQDMsr9K-rj53DwVRMYO3t5Yr <br>\n",
    "Essence of linear algebra == https://youtube.com/playlist?list=PLZHQObOWTQDPD3MizzM2xVFitgF8hE_ab <br>\n"
   ]
  },
  {
   "cell_type": "code",
   "execution_count": null,
   "metadata": {},
   "outputs": [],
   "source": []
  }
 ],
 "metadata": {
  "kernelspec": {
   "display_name": "base",
   "language": "python",
   "name": "python3"
  },
  "language_info": {
   "codemirror_mode": {
    "name": "ipython",
    "version": 3
   },
   "file_extension": ".py",
   "mimetype": "text/x-python",
   "name": "python",
   "nbconvert_exporter": "python",
   "pygments_lexer": "ipython3",
   "version": "3.8.8 (default, Apr 13 2021, 12:59:45) \n[Clang 10.0.0 ]"
  },
  "orig_nbformat": 4,
  "vscode": {
   "interpreter": {
    "hash": "ee2acf17696e022703a304c9cc2028b187948ca514c1a7cfe3ada4aba7a20c97"
   }
  }
 },
 "nbformat": 4,
 "nbformat_minor": 2
}
